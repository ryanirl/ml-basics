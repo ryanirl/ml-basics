{
 "cells": [
  {
   "cell_type": "markdown",
   "id": "ordinary-strategy",
   "metadata": {},
   "source": [
    "# K-Nearest-Neigbors MNIST Classification\n",
    "\n",
    "---\n",
    "\n",
    "## Table of Contents\n",
    "1. KNN Explained\n",
    "2. Library used for Optimized Nearest Neighbor Search\n",
    "3. Basic from Scratch Implimentation\n",
    "4. Visualization\n",
    "5. Library Optimized Implimentation\n",
    "6. Comparison and Final Words\n",
    "\n",
    "<br />\n",
    "\n",
    "---\n",
    "\n",
    "## KNN Explained\n",
    "\n",
    "K-Nearest-Neighbors (KNN)\n",
    "\n",
    "<br />\n",
    "\n",
    "---\n",
    "\n",
    "## Optimization with Faiss & Annoy\n",
    "\n",
    "Pl\n",
    "\n",
    "<br />\n",
    "\n",
    "---\n",
    "\n",
    "## Basic from Scratch Implimenation\n"
   ]
  },
  {
   "cell_type": "code",
   "execution_count": 4,
   "id": "civil-orange",
   "metadata": {},
   "outputs": [],
   "source": [
    "# IMPORTS\n",
    "\n",
    "import numpy as np\n",
    "import matplotlib.pyplot as plt\n",
    "from sklearn.svm import SVC\n",
    "from sklearn.model_selection import train_test_split\n",
    "from sklearn.datasets import load_digits\n",
    "from mlxtend.data import loadlocal_mnist\n",
    "from mlxtend.plotting import plot_confusion_matrix\n",
    "from mlxtend.evaluate import confusion_matrix\n",
    "\n",
    "# Optimization Libraries\n",
    "from annoy import AnnoyIndex\n",
    "import faiss\n"
   ]
  },
  {
   "cell_type": "code",
   "execution_count": 24,
   "id": "urban-grill",
   "metadata": {},
   "outputs": [],
   "source": [
    "# Compile MNIST Dataset\n",
    "\n",
    "X, y = loadlocal_mnist(images_path='./mnist_data/train-images-idx3-ubyte', labels_path='./mnist_data/train-labels-idx1-ubyte')\n",
    "\n",
    "train_data, test_data, train_labels, test_labels = train_test_split(X, y, test_size = 0.2)\n",
    "\n",
    "\n",
    "# Heavily processed mnist data for basic implimentation \n",
    "# SIZE (1797, 64)\n",
    "mnist = load_digits()\n",
    "\n",
    "# Splitting into training and testing\n",
    "small_train_data, small_test_data, small_train_labels, small_test_labels = train_test_split(mnist.data, mnist.target, test_size=0.2)\n"
   ]
  },
  {
   "cell_type": "code",
   "execution_count": 25,
   "id": "emotional-saying",
   "metadata": {},
   "outputs": [],
   "source": [
    "# Basic Intuitive from Scratch Implimentation\n",
    "\n",
    "# Accury and Speed not the best\n",
    "# But more intuitive than either\n",
    "# FaissKNeighbors or AnnoyKNN\n",
    "class KNN:\n",
    "    def __init__(self, K):\n",
    "        self.K = K\n",
    "\n",
    "    def _distance(self, x, z):\n",
    "        return np.linalg.norm(x - z, axis = 1)\n",
    "\n",
    "    def fit(self, X_train, y_train):\n",
    "        \"\"\"\n",
    "        Because all computation is done during predict, nothing\n",
    "        is needed here.\n",
    "\n",
    "        \"\"\"\n",
    "        self.X_train = X_train\n",
    "        self.y_train = y_train\n",
    "\n",
    "    def predict(self, X_test):\n",
    "        self.X_test = X_test\n",
    "\n",
    "        m, n = np.shape(X_test)\n",
    "        predictions = np.zeros(m)\n",
    "\n",
    "        for i in range(m):\n",
    "            distance = self._distance(self.X_test[i], self.X_train)\n",
    "\n",
    "            index = np.argsort(distance, axis = 0, kind=\"heapsort\")[: self.K]\n",
    "\n",
    "            predictions[i] = np.argmax(np.bincount(self.y_train[index]))\n",
    "\n",
    "        return predictions\n",
    "    \n",
    "    def accuracy_score(self, predictions, actual):\n",
    "        num_predictions = len(predictions)\n",
    "        \n",
    "        predictions[predictions != actual] = 0\n",
    "        predictions[predictions == actual] = 1\n",
    "\n",
    "        num_correct = np.sum(predictions)\n",
    "\n",
    "        accuracy = float(num_correct) / num_predictions\n",
    "        \n",
    "        print(\"Number of Predictions: {} | Accurary: {}\".format(num_predictions, accuracy))\n",
    "    "
   ]
  },
  {
   "cell_type": "code",
   "execution_count": 26,
   "id": "brutal-semester",
   "metadata": {},
   "outputs": [
    {
     "name": "stdout",
     "output_type": "stream",
     "text": [
      "Number of Predictions: 360 | Accurary: 0.9944444444444445\n"
     ]
    }
   ],
   "source": [
    "model = KNN(K = 3)\n",
    "model.fit(small_train_data, small_train_labels)\n",
    "predictions = model.predict(small_test_data)\n",
    "model.accuracy_score(predictions, small_test_labels)"
   ]
  },
  {
   "cell_type": "markdown",
   "id": "systematic-organ",
   "metadata": {},
   "source": [
    "## Analysis of Basic Implimentation\n",
    "\n",
    "This version when working with heavily compiled mnist data works well. Though computing the L2 norm is extremely expensive and time consuming. To run this on the vanilla MNIST dataset would take days and the accuracy (for some unknown reason) is only about 80%.\n",
    "\n",
    "And so we optimize. I found an article (will link under this text) that indroduced me to a library that was built for computing the nearest neighbors. This library was called Faiss which lead me down a further hole into a whole world of libraries built for solving this nearest neighbor problem. This lead me to the library Annoy which I will use to optimize my implimentation.\n",
    "\n",
    "<br />\n",
    "\n",
    "---\n",
    "\n",
    "## Annoy Implimentation\n"
   ]
  },
  {
   "cell_type": "code",
   "execution_count": 27,
   "id": "north-desert",
   "metadata": {},
   "outputs": [],
   "source": [
    "class AnnoyKNN:\n",
    "    def __init__(self, K = 3):\n",
    "        self.K = K\n",
    "\n",
    "    def fit(self, X_train, y_train):\n",
    "        self.X_train = X_train\n",
    "        self.y_train = y_train\n",
    "        self.m, self.n = np.shape(X_train)\n",
    "\n",
    "    def predict(self, X_test):\n",
    "        test_m, test_n = np.shape(X_test)\n",
    "\n",
    "        # Initializes Annoy index / matrix\n",
    "        matrix = AnnoyIndex(self.n, 'euclidean')\n",
    "\n",
    "        # Constructing Annoy matrix\n",
    "        for i in range(self.m):\n",
    "            matrix.add_item(i, self.X_train[i])\n",
    "\n",
    "        # Builds Annoy matrix\n",
    "        matrix.build(self.K)\n",
    "\n",
    "        # Building prediction matrix\n",
    "        predictions = np.zeros(test_m)\n",
    "\n",
    "\n",
    "        for i in range(test_m):\n",
    "            # Compiles k nearest neighbors for each number / data point\n",
    "            # in out testing data and returns their index\n",
    "            index = matrix.get_nns_by_vector(X_test[i], self.K)\n",
    "\n",
    "            # Given our indexes above, this is piece of code \"votes\"\n",
    "            # and returns the majority nearest neighbor\n",
    "            predictions[i] = np.argmax(np.bincount(self.y_train[index]))\n",
    "\n",
    "        return predictions\n",
    "    \n",
    "    def accuracy_score(self, predictions, actual):\n",
    "        num_predictions = len(predictions)\n",
    "        \n",
    "        predictions[predictions != actual] = 0\n",
    "        predictions[predictions == actual] = 1\n",
    "\n",
    "        num_correct = np.sum(predictions)\n",
    "\n",
    "        accuracy = float(num_correct) / num_predictions\n",
    "        \n",
    "        print(\"Number of Predictions: {} | Accurary: {}\".format(num_predictions, accuracy))\n",
    "        \n",
    "        "
   ]
  },
  {
   "cell_type": "code",
   "execution_count": 39,
   "id": "irish-billy",
   "metadata": {},
   "outputs": [
    {
     "name": "stdout",
     "output_type": "stream",
     "text": [
      "Number of Predictions: 12000 | Accurary: 0.95275\n"
     ]
    }
   ],
   "source": [
    "# Training on the entire vanilla MNIST dataset only takes about 15 second! \n",
    "\n",
    "model = AnnoyKNN(K = 3)\n",
    "model.fit(train_data, train_labels)\n",
    "predictions = model.predict(test_data)\n",
    "\n",
    "# Computing confusion matrix for next slide\n",
    "cm = confusion_matrix(y_target=test_labels, y_predicted=predictions, binary=False)\n",
    "\n",
    "model.accuracy_score(predictions, test_labels)"
   ]
  },
  {
   "cell_type": "markdown",
   "id": "alive-strip",
   "metadata": {},
   "source": [
    "## Analysis of Annoy Implimentation\n",
    "\n",
    "This implimentation is exponentially quicker saving me literally hours and hours of compute time. The accuracy is also quite impressive. Plotting a confusion matrix to get more detail about this:"
   ]
  },
  {
   "cell_type": "code",
   "execution_count": 41,
   "id": "voluntary-chamber",
   "metadata": {},
   "outputs": [
    {
     "data": {
      "image/png": "[encoded data removed]",
      "text/plain": [
       "<Figure size 432x288 with 1 Axes>"
      ]
     },
     "metadata": {
      "needs_background": "light"
     },
     "output_type": "display_data"
    }
   ],
   "source": [
    "# Plotting confusion matrix\n",
    "fig, ax = plot_confusion_matrix(conf_mat=cm)"
   ]
  },
  {
   "cell_type": "code",
   "execution_count": null,
   "id": "seeing-mouse",
   "metadata": {},
   "outputs": [],
   "source": []
  }
 ],
 "metadata": {
  "kernelspec": {
   "display_name": "Python 3",
   "language": "python",
   "name": "python3"
  },
  "language_info": {
   "codemirror_mode": {
    "name": "ipython",
    "version": 3
   },
   "file_extension": ".py",
   "mimetype": "text/x-python",
   "name": "python",
   "nbconvert_exporter": "python",
   "pygments_lexer": "ipython3",
   "version": "3.9.2"
  }
 },
 "nbformat": 4,
 "nbformat_minor": 5
}
