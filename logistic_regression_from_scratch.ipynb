{
 "cells": [
  {
   "cell_type": "markdown",
   "id": "metropolitan-local",
   "metadata": {},
   "source": [
    "# Logistic Regression From Scratch"
   ]
  },
  {
   "cell_type": "code",
   "execution_count": 1,
   "id": "detected-struggle",
   "metadata": {},
   "outputs": [],
   "source": [
    "# IMPORTS\n",
    "import numpy as np\n",
    "from sklearn.datasets import make_blobs\n",
    "from sklearn.linear_model import LogisticRegression\n",
    "import matplotlib.pyplot as plt"
   ]
  },
  {
   "cell_type": "code",
   "execution_count": 4,
   "id": "structural-jersey",
   "metadata": {},
   "outputs": [],
   "source": [
    "# DATA \n",
    "n = 200\n",
    "X, Y = make_blobs(n_samples = n, centers = 2, n_features = 2, cluster_std = 5, random_state = 11) # 11 random normal\n",
    "\n",
    "dim_add = np.array([1]*n)[np.newaxis]\n",
    "X = np.append(X.T, dim_add, axis=0)\n",
    "X = X.T"
   ]
  },
  {
   "cell_type": "code",
   "execution_count": 5,
   "id": "arabic-athens",
   "metadata": {},
   "outputs": [],
   "source": [
    "# MY FROM SCRATCH IMPLIMENTATION\n",
    "\n",
    "def sigmoid(z): #Non-Linear Hypothesis Function\n",
    "    return 1.0 / (1.0 + np.exp(-z))\n",
    "\n",
    "\n",
    "def gradient_descent(w,  X, Y, eta, d, t, lamb):\n",
    "    for i in range(t):\n",
    "        hypothesis = sigmoid(np.dot(w.T, X))\n",
    "#        hypothesis[hypothesis > 0.5] = 1\n",
    "#        hypothesis[hypothesis <= 0.5] = 0\n",
    "\n",
    "        gradient_weight = np.array(np.dot(hypothesis - Y, X.T)) / len(X[0])\n",
    "        regularization = lamb * np.linalg.norm(w) \n",
    "\n",
    "        w = (w.T - eta * (gradient_weight + regularization)).T\n",
    "\n",
    "    return w"
   ]
  },
  {
   "cell_type": "code",
   "execution_count": 6,
   "id": "inside-malaysia",
   "metadata": {},
   "outputs": [],
   "source": [
    "# SKLEARN Implimentation for Reference\n",
    "\n",
    "logisticReg = LogisticRegression()\n",
    "logisticReg.fit(X, Y)\n",
    "test = logisticReg.predict(X)\n",
    "coef = logisticReg.coef_[0]"
   ]
  },
  {
   "cell_type": "code",
   "execution_count": 7,
   "id": "multiple-advocacy",
   "metadata": {},
   "outputs": [
    {
     "name": "stdout",
     "output_type": "stream",
     "text": [
      "Scratch Implimentation Weights: [[0.20449752 0.58926337 2.17462173]]\n",
      "SKLearn Implimentation Weights: [2.23282403e-01 6.13778726e-01 3.82069052e-07]\n"
     ]
    }
   ],
   "source": [
    "init_weights = np.array([[0], [0], [0]])\n",
    "eta = 0.01\n",
    "dimension = len(init_weights)\n",
    "t = 10000\n",
    "lamb = 0.0001\n",
    "\n",
    "weights = gradient_descent(init_weights, X.T, Y, eta, dimension, t, lamb)\n",
    "\n",
    "print(\"Scratch Implimentation Weights: {}\".format(weights.T))\n",
    "\n",
    "\n",
    "# ------ #\n",
    "\n",
    "print(\"SKLearn Implimentation Weights: {}\".format(coef))\n",
    "\n",
    "weight_0 = coef[0]\n",
    "weight_1 = coef[1]\n",
    "weight_2 = coef[2]"
   ]
  },
  {
   "cell_type": "code",
   "execution_count": 8,
   "id": "apparent-causing",
   "metadata": {},
   "outputs": [
    {
     "data": {
      "image/png": "[encoded data removed]",
      "text/plain": [
       "<Figure size 432x288 with 1 Axes>"
      ]
     },
     "metadata": {
      "needs_background": "light"
     },
     "output_type": "display_data"
    }
   ],
   "source": [
    "# PLOTTING\n",
    "\n",
    "X = X.T\n",
    "for i in range(n):\n",
    "    if (Y[i] == 1):\n",
    "        plt.scatter(X[:, i][0], X[:, i][1], color=\"green\") \n",
    "    else:\n",
    "        plt.scatter(X[:, i][0], X[:, i][1], color=\"blue\")\n",
    "\n",
    "        \n",
    "x = np.linspace(-20, 20, 20)\n",
    "hyperplane_1 = (((-1)*(weights[0] / weights[1]) * x) - (weights[2]/weights[1]))\n",
    "hyperplane = (((-1)*(weight_0 / weight_1) * x) - (weight_2/weight_1))\n",
    "\n",
    "plt.plot(x, hyperplane, '-', color=\"blue\")\n",
    "plt.plot(x, hyperplane_1, '-', color=\"green\")\n",
    "\n",
    "plt.show()"
   ]
  },
  {
   "cell_type": "code",
   "execution_count": null,
   "id": "powerful-queens",
   "metadata": {},
   "outputs": [],
   "source": []
  }
 ],
 "metadata": {
  "kernelspec": {
   "display_name": "Python 3",
   "language": "python",
   "name": "python3"
  },
  "language_info": {
   "codemirror_mode": {
    "name": "ipython",
    "version": 3
   },
   "file_extension": ".py",
   "mimetype": "text/x-python",
   "name": "python",
   "nbconvert_exporter": "python",
   "pygments_lexer": "ipython3",
   "version": "3.9.2"
  }
 },
 "nbformat": 4,
 "nbformat_minor": 5
}
