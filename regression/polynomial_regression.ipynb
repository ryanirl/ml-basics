{
 "cells": [
  {
   "cell_type": "markdown",
   "id": "killing-refund",
   "metadata": {},
   "source": [
    "# Polynomial Regression\n",
    "\n",
    "Most of this code is pulled from my ordinary least squares. Just modified for non-lineararity."
   ]
  },
  {
   "cell_type": "code",
   "execution_count": 1,
   "id": "coordinate-prevention",
   "metadata": {},
   "outputs": [],
   "source": [
    "#Imports\n",
    "import numpy as np\n",
    "import matplotlib.pyplot as plt\n",
    "from sklearn.datasets import make_regression"
   ]
  },
  {
   "cell_type": "code",
   "execution_count": 2,
   "id": "indonesian-catholic",
   "metadata": {},
   "outputs": [],
   "source": [
    "# Data\n",
    "n = 200\n",
    "\n",
    "X0 = np.array([[1] * n])\n",
    "X1 = (4) * np.random.rand(n)[np.newaxis] - 2 # gives values [-2, 2)\n",
    "X2 = X1 ** 2\n",
    "X3 = X1 ** 3 \n",
    "\n",
    "X = np.array([X0[0], X1[0], X2[0], X3[0]])\n",
    "\n",
    "# Cool trick Percy Liang used during one of his lectures for CS221. It \n",
    "# generates fake Y values and if the program works then w and b will converge\n",
    "# to whatever you set these values too.\n",
    "artificial_weights = np.array([[3], [2], [1], [-1]])\n",
    "\n",
    "noise = np.random.rand(n)\n",
    "Y = np.dot(artificial_weights.T, X) + (noise / 5.0)"
   ]
  },
  {
   "cell_type": "code",
   "execution_count": 7,
   "id": "pleasant-milton",
   "metadata": {},
   "outputs": [],
   "source": [
    "def hypothesis(w, x):\n",
    "    return np.dot(w.T, x) \n",
    "\n",
    "def train(w, x, y):\n",
    "    print(\"x: {}\".format(np.shape(x)))\n",
    "    print(\"y: {}\".format(np.shape(y)))\n",
    "    print(\"w: {}\".format(np.shape(w)))\n",
    "\n",
    "    for i in range(10000):\n",
    "        h = hypothesis(w, x)\n",
    "\n",
    "        w = w - ( 0.01 * (2.0 * np.dot(x, (h - y).T) / 200.0))\n",
    "\n",
    "#        print(\"w: {}\".format(w))\n",
    "        \n",
    "    return w "
   ]
  },
  {
   "cell_type": "code",
   "execution_count": 8,
   "id": "falling-expert",
   "metadata": {},
   "outputs": [
    {
     "name": "stdout",
     "output_type": "stream",
     "text": [
      "x: (4, 200)\n",
      "y: (1, 200)\n",
      "w: (4, 1)\n",
      "[[ 3.09421612]\n",
      " [ 2.03038808]\n",
      " [ 1.00463199]\n",
      " [-1.00993401]]\n"
     ]
    }
   ],
   "source": [
    "w_init = np.array([[0], [0], [0], [0]])\n",
    "w = train(w_init, X, Y)\n",
    "print(w)\n",
    "\n",
    "\n"
   ]
  },
  {
   "cell_type": "code",
   "execution_count": 6,
   "id": "finnish-trustee",
   "metadata": {},
   "outputs": [
    {
     "data": {
      "image/png": "[encoded data removed]",
      "text/plain": [
       "<Figure size 432x288 with 1 Axes>"
      ]
     },
     "metadata": {
      "needs_background": "light"
     },
     "output_type": "display_data"
    }
   ],
   "source": [
    "# Plotting\n",
    "\n",
    "plt.scatter(X[1], Y, color=\"blue\")\n",
    "#x = np.linspace(-2, 2, 2)\n",
    "x = np.linspace(-3, 3, num=100)\n",
    "#hyperplane = w[0] * x + b[0]\n",
    "\n",
    "w_0 = w[0]\n",
    "w_1 = w[1]\n",
    "w_2 = w[2]\n",
    "w_3 = w[3]\n",
    "\n",
    "# Got this idea from - https://aadhil-imam.medium.com/plotting-polynomial-function-in-python-361230a1e400\n",
    "fx=[]\n",
    "for i in range(len(x)):\n",
    "    fx.append(w_3*x[i]**3 + w_2*x[i]**2 + w_1*x[i] + w_0)\n",
    "\n",
    "plt.plot(x, fx)\n",
    "\n",
    "#plt.plot(x, hyperplane, '-', color=\"red\")\n",
    "\n",
    "plt.show()\n"
   ]
  },
  {
   "cell_type": "code",
   "execution_count": null,
   "id": "protective-benchmark",
   "metadata": {},
   "outputs": [],
   "source": []
  }
 ],
 "metadata": {
  "kernelspec": {
   "display_name": "Python 3",
   "language": "python",
   "name": "python3"
  },
  "language_info": {
   "codemirror_mode": {
    "name": "ipython",
    "version": 3
   },
   "file_extension": ".py",
   "mimetype": "text/x-python",
   "name": "python",
   "nbconvert_exporter": "python",
   "pygments_lexer": "ipython3",
   "version": "3.9.2"
  }
 },
 "nbformat": 4,
 "nbformat_minor": 5
}
