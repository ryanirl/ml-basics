{
 "cells": [
  {
   "cell_type": "markdown",
   "id": "genuine-masters",
   "metadata": {},
   "source": [
    "# Simple Regression"
   ]
  },
  {
   "cell_type": "code",
   "execution_count": 1,
   "id": "fatty-conviction",
   "metadata": {},
   "outputs": [],
   "source": [
    "import numpy as np\n",
    "import matplotlib.pyplot as plt"
   ]
  },
  {
   "cell_type": "code",
   "execution_count": 31,
   "id": "third-suffering",
   "metadata": {},
   "outputs": [],
   "source": [
    "n = 200\n",
    "\n",
    "X = (4) * np.random.rand(n)[np.newaxis] - 2 # gives values [-2, 2)\n",
    "\n",
    "# Cool trick Percy Liang used during one of his lectures for CS221. It \n",
    "# generates fake Y values and if the program works then w and b will converge\n",
    "# to whatever you set these values too.\n",
    "artificial_weights = np.array([[-1]])\n",
    "artificial_bias = np.array([[3]])\n",
    "\n",
    "noise = np.random.rand(n)\n",
    "Y = np.dot(artificial_weights.T, X) + artificial_bias + (noise / 5.0)\n"
   ]
  },
  {
   "cell_type": "code",
   "execution_count": 32,
   "id": "emotional-mechanics",
   "metadata": {},
   "outputs": [],
   "source": [
    "def hypothesis(w, x, b):\n",
    "    return np.dot(w.T, x) + b\n",
    "\n",
    "def train(w, b, x, y):\n",
    "#    print(\"x: {}\".format(np.shape(x)))\n",
    "#    print(\"y: {}\".format(np.shape(y)))\n",
    "#    print(\"w: {}\".format(np.shape(w)))\n",
    "#    print(\"b: {}\".format(np.shape(b)))\n",
    "\n",
    "    for i in range(10000):\n",
    "        h = hypothesis(w, x, b)\n",
    "\n",
    "        w = w - ( 0.01 * (2.0 * np.dot(h - y, x.T) / 200.0))\n",
    "        b = b - ( 0.01 * (2.0 * np.sum(h - y)) / 200.0 )\n",
    "        # print(\"w: {}, b: {}\".format(w, b))\n",
    "        \n",
    "    return w, b"
   ]
  },
  {
   "cell_type": "code",
   "execution_count": 36,
   "id": "present-stress",
   "metadata": {},
   "outputs": [
    {
     "name": "stdout",
     "output_type": "stream",
     "text": [
      "[[-0.9969541]]\n",
      "[[3.10891838]]\n"
     ]
    },
    {
     "data": {
      "image/png": "[encoded data removed]",
      "text/plain": [
       "<Figure size 432x288 with 1 Axes>"
      ]
     },
     "metadata": {
      "needs_background": "light"
     },
     "output_type": "display_data"
    }
   ],
   "source": [
    "w_init = np.array([[0]])\n",
    "b_init = np.array([[0]])\n",
    "w, b = train(w_init, b_init, X, Y)\n",
    "print(w)\n",
    "print(b)\n",
    "\n",
    "plt.scatter(X, Y, color=\"blue\")\n",
    "x = np.linspace(-2, 2, 2)\n",
    "hyperplane = w[0] * x + b[0]\n",
    "\n",
    "plt.plot(x, hyperplane, '-', color=\"red\")\n",
    "\n",
    "plt.show()\n"
   ]
  },
  {
   "cell_type": "code",
   "execution_count": null,
   "id": "biblical-volume",
   "metadata": {},
   "outputs": [],
   "source": []
  }
 ],
 "metadata": {
  "kernelspec": {
   "display_name": "Python 3",
   "language": "python",
   "name": "python3"
  },
  "language_info": {
   "codemirror_mode": {
    "name": "ipython",
    "version": 3
   },
   "file_extension": ".py",
   "mimetype": "text/x-python",
   "name": "python",
   "nbconvert_exporter": "python",
   "pygments_lexer": "ipython3",
   "version": "3.9.2"
  }
 },
 "nbformat": 4,
 "nbformat_minor": 5
}
