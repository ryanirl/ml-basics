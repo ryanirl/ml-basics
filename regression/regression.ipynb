{
 "cells": [
  {
   "cell_type": "markdown",
   "id": "cultural-soviet",
   "metadata": {},
   "source": [
    "# Regression"
   ]
  },
  {
   "cell_type": "markdown",
   "id": "deluxe-lingerie",
   "metadata": {},
   "source": [
    "---\n",
    "\n",
    "##### Important Notes\n",
    "\n",
    "**1.** Logistic \"Regression\" will not be covered as it is used for classification and doesn't model continuous outcomes.\n",
    "\n",
    "<br />\n",
    "\n",
    "### Regression Models Covered (maybe adding more or removing some)\n",
    " 1. Linear Regression / Ordinary Least Squars (OLS)\n",
    " 2. Lasso Regression\n",
    " 3. Ridge Regression\n",
    " 4. Polynomial Regression\n",
    " 5. Bayesian Linear Regression\n",
    " \n",
    "\n",
    "<br />\n",
    " \n",
    "---\n",
    "\n",
    "<br />"
   ]
  },
  {
   "cell_type": "code",
   "execution_count": null,
   "id": "broken-minute",
   "metadata": {},
   "outputs": [],
   "source": []
  }
 ],
 "metadata": {
  "kernelspec": {
   "display_name": "Python 3",
   "language": "python",
   "name": "python3"
  },
  "language_info": {
   "codemirror_mode": {
    "name": "ipython",
    "version": 3
   },
   "file_extension": ".py",
   "mimetype": "text/x-python",
   "name": "python",
   "nbconvert_exporter": "python",
   "pygments_lexer": "ipython3",
   "version": "3.9.2"
  }
 },
 "nbformat": 4,
 "nbformat_minor": 5
}
