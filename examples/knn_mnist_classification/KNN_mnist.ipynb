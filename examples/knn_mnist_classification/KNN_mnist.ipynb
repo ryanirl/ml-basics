{
 "cells": [
  {
   "cell_type": "markdown",
   "id": "activated-raleigh",
   "metadata": {},
   "source": [
    "# K-Nearest-Neigbors MNIST Classification\n",
    "\n",
    "---\n",
    "\n",
    "## Table of Contents\n",
    "1. KNN Optimization Explained\n",
    "3. Optimized Implimentation\n",
    "4. Visualization\n",
    "6. Comparison and Final Words\n",
    "\n",
    "<br />\n",
    "\n",
    "\n",
    "---\n",
    "\n",
    "## Optimized Implimentation\n",
    "\n",
    "Optimized with the Spotify's Annoy library for Approximate Nearest Neighbors.\n"
   ]
  },
  {
   "cell_type": "code",
   "execution_count": 9,
   "id": "resistant-strength",
   "metadata": {},
   "outputs": [],
   "source": [
    "# IMPORTS\n",
    "\n",
    "import numpy as np\n",
    "import matplotlib.pyplot as plt\n",
    "from sklearn.model_selection import train_test_split\n",
    "from sklearn.datasets import load_digits\n",
    "from mlxtend.data import loadlocal_mnist\n",
    "from mlxtend.plotting import plot_confusion_matrix\n",
    "from mlxtend.evaluate import confusion_matrix\n",
    "\n",
    "# Optimization Libraries\n",
    "from annoy import AnnoyIndex\n"
   ]
  },
  {
   "cell_type": "code",
   "execution_count": 3,
   "id": "documentary-flush",
   "metadata": {},
   "outputs": [],
   "source": [
    "# Compile MNIST Dataset\n",
    "\n",
    "X, y = loadlocal_mnist(images_path='./mnist_data/train-images-idx3-ubyte', labels_path='./mnist_data/train-labels-idx1-ubyte')\n",
    "\n",
    "# Splitting our dataset into testing and training points.\n",
    "train_data, test_data, train_labels, test_labels = train_test_split(X, y, test_size = 0.2)\n"
   ]
  },
  {
   "cell_type": "code",
   "execution_count": 6,
   "id": "minimal-intermediate",
   "metadata": {},
   "outputs": [],
   "source": [
    "class AnnoyKNN:\n",
    "    def __init__(self, K = 3):\n",
    "        self.K = K\n",
    "\n",
    "    def fit(self, X_train, y_train):\n",
    "        self.X_train = X_train\n",
    "        self.y_train = y_train\n",
    "        self.m, self.n = np.shape(X_train)\n",
    "\n",
    "    def predict(self, X_test):\n",
    "        test_m, test_n = np.shape(X_test)\n",
    "\n",
    "        # Initializes Annoy index / matrix\n",
    "        matrix = AnnoyIndex(self.n, 'euclidean')\n",
    "\n",
    "        # Constructing Annoy matrix\n",
    "        for i in range(self.m):\n",
    "            matrix.add_item(i, self.X_train[i])\n",
    "\n",
    "        # Builds Annoy matrix\n",
    "        matrix.build(self.K)\n",
    "\n",
    "        # Building prediction matrix\n",
    "        predictions = np.zeros(test_m)\n",
    "\n",
    "\n",
    "        for i in range(test_m):\n",
    "            # Compiles k nearest neighbors for each number / data point\n",
    "            # in out testing data and returns their index\n",
    "            index = matrix.get_nns_by_vector(X_test[i], self.K)\n",
    "\n",
    "            # Given our indexes above, this is piece of code \"votes\"\n",
    "            # and returns the majority nearest neighbor\n",
    "            predictions[i] = np.argmax(np.bincount(self.y_train[index]))\n",
    "\n",
    "        return predictions\n",
    "    \n",
    "    def accuracy_score(self, predictions, actual):\n",
    "        num_predictions = len(predictions)\n",
    "        \n",
    "        predictions[predictions != actual] = 0\n",
    "        predictions[predictions == actual] = 1\n",
    "\n",
    "        num_correct = np.sum(predictions)\n",
    "\n",
    "        accuracy = float(num_correct) / num_predictions\n",
    "        \n",
    "        print(\"Number of Predictions: {} | Accurary: {}\".format(num_predictions, accuracy))\n",
    "        \n",
    "        "
   ]
  },
  {
   "cell_type": "code",
   "execution_count": 7,
   "id": "overall-steam",
   "metadata": {},
   "outputs": [
    {
     "name": "stdout",
     "output_type": "stream",
     "text": [
      "Number of Predictions: 12000 | Accurary: 0.9545\n"
     ]
    }
   ],
   "source": [
    "# Training on the entire vanilla MNIST dataset only takes about 15 second! \n",
    "\n",
    "model = AnnoyKNN(K = 3)\n",
    "model.fit(train_data, train_labels)\n",
    "predictions = model.predict(test_data)\n",
    "\n",
    "# Computing confusion matrix for next slide\n",
    "cm = confusion_matrix(y_target=test_labels, y_predicted=predictions, binary=False)\n",
    "\n",
    "model.accuracy_score(predictions, test_labels)"
   ]
  },
  {
   "cell_type": "markdown",
   "id": "billion-approval",
   "metadata": {},
   "source": [
    "## Analysis of Annoy Implimentation\n",
    "\n",
    "Spotify's Approximate Nearest Neighbors Annoy library is exponentially quicker than the naive version. The accuracy is also quite impressive. Plotting a confusion matrix to get more detail about this:"
   ]
  },
  {
   "cell_type": "code",
   "execution_count": 8,
   "id": "complex-baltimore",
   "metadata": {},
   "outputs": [
    {
     "data": {
      "image/png": "[encoded data removed]",
      "text/plain": [
       "<Figure size 432x288 with 1 Axes>"
      ]
     },
     "metadata": {
      "needs_background": "light"
     },
     "output_type": "display_data"
    }
   ],
   "source": [
    "# Plotting confusion matrix\n",
    "fig, ax = plot_confusion_matrix(conf_mat=cm)"
   ]
  },
  {
   "cell_type": "markdown",
   "id": "extensive-champion",
   "metadata": {},
   "source": [
    "AUTHOR: RYAN P."
   ]
  },
  {
   "cell_type": "code",
   "execution_count": null,
   "id": "numeric-singles",
   "metadata": {},
   "outputs": [],
   "source": []
  }
 ],
 "metadata": {
  "kernelspec": {
   "display_name": "Python 3",
   "language": "python",
   "name": "python3"
  },
  "language_info": {
   "codemirror_mode": {
    "name": "ipython",
    "version": 3
   },
   "file_extension": ".py",
   "mimetype": "text/x-python",
   "name": "python",
   "nbconvert_exporter": "python",
   "pygments_lexer": "ipython3",
   "version": "3.9.6"
  }
 },
 "nbformat": 4,
 "nbformat_minor": 5
}
