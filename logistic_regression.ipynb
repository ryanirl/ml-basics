{
 "cells": [
  {
   "cell_type": "markdown",
   "id": "requested-iceland",
   "metadata": {},
   "source": [
    "# Logistic Regression From Scratch"
   ]
  },
  {
   "cell_type": "markdown",
   "id": "regular-spine",
   "metadata": {},
   "source": [
    "**NOTE:** If you would simply like to test out the code, just run `$python3 logistic_regression.py` in your terminal.\n"
   ]
  },
  {
   "cell_type": "markdown",
   "id": "fifty-sudan",
   "metadata": {},
   "source": [
    "## Table of Contents\n",
    "1. Logistic Regression Hypothesis \n",
    "2. Loss Function & Intro to Negative Log-Likelihood (NLL)\n",
    "3. Gradient Descent for NLL\n",
    "4. Implimentation\n",
    "\n",
    "<br />\n",
    "\n",
    "---\n",
    "\n",
    "## Hypothesis\n",
    "\n",
    "Logistic Regression, though given the name, is a form of classification. Given the hypothesis $ w^{\\top}x+b $ logistic regression makes use of the sigmoid non-linear activation function which maps inputs in the range $ (0, 1)$. Intuitivly this is to be thought as a probability of how right the classifier thinks it classified a point correctly or incorrectly. This sigmoid function is often denoted $\\sigma(z)$ where $z = w^{\\top}x+b $. Specifically, this sigmoid function is:\n",
    "\n",
    "<br />\n",
    "\n",
    "$$ \\sigma(z) = \\frac{1}{1 + e^{-(w^{\\top}x+b)}} $$\n",
    "\n",
    "<br />\n",
    "\n",
    "\n",
    "For added intuition, plotting the sigmoid function gives: \n",
    "\n",
    "<img src=\"./logistic_regression/img/sigmoid_function.png\" width=\"400\" height=\"200\">\n",
    "\n",
    "Now the Logistic Regression would make the hypothesis:\n",
    "\n",
    "\n",
    "<br />\n",
    "\n",
    "$$\n",
    "h(x ; w, b)=\\left\\{\\begin{array}{ll}\n",
    "1 & \\text { if } \\sigma(w^{\\top}x+b)>=0.5 \\\\\n",
    "0 & \\text { if } \\sigma(w^{\\top}x+b) < 0.5 \\\\\n",
    "\\end{array}\\right.\n",
    "$$\n",
    "\n",
    "<br />\n",
    "\n",
    "---\n",
    "\n",
    "## Loss Function - Negative Log-Likelihood (NLL)\n",
    "\n",
    "Because the values are between 0 and 1 then we can think of a result given for some $x_i$ is the probability that the classifier believes it's either positive or negative. That is a guess on $x_i$ is $g_i = \\sigma(w^{\\top}x_i+b)$ where the probability $P(x)$ that a point is either negative or positive is $g_i$ if $y_i = 1$ and is $ 1 - g_i $ if $y_i = 0$. Using the laws of probability we can summarize this as:\n",
    "\n",
    "$$ \\prod_{i=1}^{n}\\left\\{\\begin{array}{ll}\n",
    "g_i & \\text { if } y_i = 1 \\\\\n",
    "1 - g_i & \\text { if } y_i = 0 \\\\\n",
    "\\end{array}\\right. $$\n",
    "\n",
    "Using a very beautiful trick we can rewrite this entire thing as:\n",
    "\n",
    "<br />\n",
    "\n",
    "$$ \\prod_{i=1}^{n} \\; g_i^{y_i} \\; (1-g_i)^{1-y_i} $$\n",
    "\n",
    "<br />\n",
    "\n",
    "But, in math we like summations and not big products like this. So to convert this to a sum we just use the log trick. Giving:\n",
    "\n",
    "<br />\n",
    "\n",
    "$$ \\sum_{i=1}^{n} \\; [y_i\\log(g_i) \\;+\\; (1-y_i)\\log(1-g_i)] $$\n",
    "\n",
    "<br />\n",
    "\n",
    "And this is out loss function. It is commonly known as the negative log-likelihood or log loss or cross entropy. The notation I will use for this loss funtion will be $\\mathbb{L}_{NLL}(g_i, y_i) $.\n",
    "\n",
    "Now that we have defined the loss, we can write our normalized objective function $J(w, b)$ for logistic regression as:\n",
    "\n",
    "<br />\n",
    "\n",
    "$$ J(w, b) = \\frac{1}{n} \\sum_{i=1}^{n} [\\mathbb{L}_{NLL}(\\sigma(w^{\\top}x_i+b), y_i)] + \\frac{\\lambda}{2} \\|w\\|^{2} $$\n",
    "\n",
    "<br />\n",
    "\n",
    "\n",
    "\n",
    "\n",
    "---\n",
    "\n",
    "## Gradient Descent\n",
    "\n",
    "The typical gradient descent form for our weights and bias is as follows:\n",
    "\n",
    "<br />\n",
    "\n",
    "$$ w: \\;\\; w_{t+1} = w_{t} - \\mu \\nabla_{w}J(w, b) $$\n",
    "\n",
    "<br />\n",
    "\n",
    "$$ b: \\;\\; w_{t+1} = b_{t} - \\mu \\nabla_{b}J(w, b) $$\n",
    "\n",
    "<br />\n",
    "\n",
    "I am going to omit the proof but the derivative of our loss w.r.t. our weights are $ (\\sigma(w^{\\top}x_i+b) - y_i)x_i $ where $ \\sigma(w^{\\top}x_i+b) $ is our hypothesis, so this can simply be rewriten as: $ (h_i - y_i)x_i $. Similarly the update for our bias term can be written as:  $ (h_i - y_i) $. This leads to the following equation:\n",
    "\n",
    "<br />\n",
    "\n",
    "$$ w: \\;\\; w_{t+1} = w_{t} - \\mu (\\frac{1}{n} \\sum_{i=1}^{n} [(\\sigma(w^{\\top}x_i+b) - y_i)x_i] + \\lambda \\|w\\|)$$\n",
    "\n",
    "<br />\n",
    "\n",
    "$$ b: \\;\\; w_{t+1} = b_{t} - \\mu (\\frac{1}{n} \\sum_{i=1}^{n} [(\\sigma(w^{\\top}x_i+b) - y_i)] + \\lambda \\|w\\|) $$\n",
    "\n",
    "<br />\n",
    "\n",
    "\n",
    "---\n",
    "\n",
    "## My Implimentation\n",
    "\n",
    "\n",
    "\n",
    "\n",
    "\n",
    "\n",
    "\n"
   ]
  },
  {
   "cell_type": "code",
   "execution_count": 34,
   "id": "attached-rouge",
   "metadata": {},
   "outputs": [],
   "source": [
    "# Imports\n",
    "import numpy as np\n",
    "from sklearn.datasets import make_blobs\n",
    "import matplotlib.pyplot as plt"
   ]
  },
  {
   "cell_type": "code",
   "execution_count": 35,
   "id": "floppy-sheep",
   "metadata": {},
   "outputs": [],
   "source": [
    "# Gather Data\n",
    "n = 100\n",
    "X, y = make_blobs(n_samples = n, centers = 2, random_state = 12)\n",
    "\n",
    "y = y[:, np.newaxis]\n"
   ]
  },
  {
   "cell_type": "code",
   "execution_count": 36,
   "id": "gentle-heaven",
   "metadata": {},
   "outputs": [],
   "source": [
    "# Sigmoid Activation Function\n",
    "def sigmoid(z): \n",
    "    return 1.0 / (1.0 + np.exp(-z))\n"
   ]
  },
  {
   "cell_type": "code",
   "execution_count": 1,
   "id": "quiet-courage",
   "metadata": {},
   "outputs": [],
   "source": [
    "# Design the Model.\n",
    "\n",
    "class LogisticRegression:\n",
    "    def predict(self, X, w, b):\n",
    "        return sigmoid(X.dot(w) + b)\n",
    "\n",
    "    def loss(self, pred, y):\n",
    "        \"\"\"\n",
    "        This is a numerically stable way to compute the loss. That is\n",
    "        why it looks wierd. If you don't do this you will likely end up\n",
    "        getting overflows.\n",
    "        \n",
    "        \"\"\"\n",
    "        NLL = (y * np.log(pred + 1e-6) + (1 - y) * np.log(1 - pred + 1e-6)) \n",
    "        return -np.sum(NLL) * (1.0 / self.m)\n",
    "\n",
    "    def fit(self, X, y):\n",
    "        eta = 0.01\n",
    "        epochs = 5000\n",
    "\n",
    "        self.m, self.n = X.shape\n",
    "\n",
    "        # Declare the Weights\n",
    "        self.weights = np.random.uniform(-1, 1, (self.n, 1))\n",
    "        self.bias = np.random.uniform(-1, 1, (1, 1))\n",
    "\n",
    "        for i in range(epochs):\n",
    "            predicted = self.predict(X, self.weights, self.bias)\n",
    "\n",
    "            # Show the loss every 500th epoch\n",
    "            if i % 500 == 0: print(\"Loss on step {} is: {}\".format(i, self.loss(predicted, y)))\n",
    "\n",
    "            self.weights = self.weights - eta * X.T.dot(predicted - y)\n",
    "            self.bias = self.bias - eta * np.sum(predicted - y)\n"
   ]
  },
  {
   "cell_type": "code",
   "execution_count": 41,
   "id": "stuffed-reality",
   "metadata": {},
   "outputs": [
    {
     "name": "stdout",
     "output_type": "stream",
     "text": [
      "Loss on step 0 is: 0.4459884197619967\n",
      "Loss on step 500 is: 0.03562543561883667\n",
      "Loss on step 1000 is: 0.02056306128077044\n",
      "Loss on step 1500 is: 0.014915202660124357\n",
      "Loss on step 2000 is: 0.011888555767224581\n",
      "Loss on step 2500 is: 0.009974829294183099\n",
      "Loss on step 3000 is: 0.008643202944225777\n",
      "Loss on step 3500 is: 0.0076568411726937674\n",
      "Loss on step 4000 is: 0.00689332071079478\n",
      "Loss on step 4500 is: 0.00628263891582526\n"
     ]
    }
   ],
   "source": [
    "# Instantiate and Fit the Model \n",
    "model = LogisticRegression()\n",
    "model.fit(X, y)\n",
    "\n",
    "# Grab the Weights and Bias\n",
    "weight0, weight1 = model.weights\n",
    "bias = model.bias[0][0]\n"
   ]
  },
  {
   "cell_type": "code",
   "execution_count": 42,
   "id": "direct-deficit",
   "metadata": {},
   "outputs": [
    {
     "data": {
      "image/png": "[encoded data removed]",
      "text/plain": [
       "<Figure size 432x288 with 1 Axes>"
      ]
     },
     "metadata": {
      "needs_background": "light"
     },
     "output_type": "display_data"
    }
   ],
   "source": [
    "# Plot \n",
    "\n",
    "for i in range(n):\n",
    "    if (y[i] == 1):\n",
    "        plt.scatter(X[:, 0][i], X[:, 1][i], color=\"green\") \n",
    "    else:\n",
    "        plt.scatter(X[:, 0][i], X[:, 1][i], color=\"blue\")\n",
    "        \n",
    "x = np.linspace(-10, 10, 10)\n",
    "\n",
    "hyperplane = (-(weight0 / weight1) * x) - (bias / weight1)\n",
    "\n",
    "plt.suptitle(\"Logistic Regression\")\n",
    "\n",
    "plt.plot(x, hyperplane, '-', color = \"red\")\n",
    "\n",
    "plt.show()\n"
   ]
  },
  {
   "cell_type": "code",
   "execution_count": null,
   "id": "entire-session",
   "metadata": {},
   "outputs": [],
   "source": []
  }
 ],
 "metadata": {
  "kernelspec": {
   "display_name": "Python 3",
   "language": "python",
   "name": "python3"
  },
  "language_info": {
   "codemirror_mode": {
    "name": "ipython",
    "version": 3
   },
   "file_extension": ".py",
   "mimetype": "text/x-python",
   "name": "python",
   "nbconvert_exporter": "python",
   "pygments_lexer": "ipython3",
   "version": "3.9.12"
  }
 },
 "nbformat": 4,
 "nbformat_minor": 5
}
