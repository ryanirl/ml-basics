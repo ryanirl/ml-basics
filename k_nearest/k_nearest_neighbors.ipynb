{
 "cells": [
  {
   "cell_type": "markdown",
   "id": "amended-feeling",
   "metadata": {},
   "source": [
    "# K-Nearest-Neigbors MNIST Classification\n",
    "\n",
    "---\n",
    "\n",
    "**NOTE:** This notebook will only cover a basic, non-optimized KNN. If you want an optimized KNN that can train on datasets with millions of points then check out my mnist classification with KNN notebook: https://github.com/ryanirl/ml-basics/blob/main/mnist_classification/KNN_mnist.ipynb\n",
    "\n",
    "## Table of Contents\n",
    "1. KNN Explained\n",
    "3. Basic from Scratch Implimentation\n",
    "4. Visualization\n",
    "6. Final Words\n",
    "\n",
    "<br />\n",
    "\n",
    "---\n",
    "\n",
    "## KNN Explained\n",
    "\n",
    "K-Nearest-Neighbors (KNN) is a non-parametric supervised machine learning model that does all of it's computation at the testing stage. To add some intuition to big words, KNN remebers all of it's training data and stores it in memory. Then come testing time, it takes in new data and finds it's nearest neighbors in relation to the training data. There is then a voting process that takes place. For example consider the point (3, x) where we want to predict the value x. Now consider that it has 3 nearest (2, 3), (9, 3), and (4, 2). Then, x must equal 3 because there are two 3's and only one 2. This is the voting process. \n",
    "\n",
    "To find it's nearest neighbors KNN often uses Euclidean distance. But, it is not unheard to use other representations of distance such as the Manhattan or Minkowski distance.\n",
    "\n",
    "<br />\n",
    "\n",
    "<p>\n",
    "    <img src=\"./img/KNN_example.png\" width=\"50%\">\n",
    "</p>\n",
    "\n",
    "In the above image, the point being classified would be of class A, because of it's nearest neighbors 2 are from class A and only 1 is from class B.\n",
    "\n",
    "When chossing K, I prefer to keep it as an odd number so when voting takes place there are never any ties.\n",
    "\n",
    "<br />\n",
    "\n",
    "---\n",
    "\n",
    "## Steps for KNN\n",
    "\n",
    "1. Save all training data to memory that can be easily accesed come prediction time.\n",
    "2. For each prediction point calculate it's nearest neighbor(s)\n",
    "3. VOTE!\n",
    "\n",
    "<br />\n",
    "\n",
    "---\n",
    "\n",
    "## Basic from Scratch Implimenation\n"
   ]
  },
  {
   "cell_type": "code",
   "execution_count": 1,
   "id": "fifth-rough",
   "metadata": {},
   "outputs": [],
   "source": [
    "# IMPORTS\n",
    "\n",
    "import numpy as np\n",
    "import matplotlib.pyplot as plt\n",
    "from mlxtend.plotting import plot_confusion_matrix\n",
    "from mlxtend.evaluate import confusion_matrix\n",
    "from sklearn.model_selection import train_test_split\n",
    "from sklearn.datasets import load_digits\n"
   ]
  },
  {
   "cell_type": "code",
   "execution_count": 2,
   "id": "standard-preparation",
   "metadata": {},
   "outputs": [],
   "source": [
    "# LOADING DATASET\n",
    "\n",
    "# Heavily processed mnist data for a simple\n",
    "# computationally cheap implimentation \n",
    "# SIZE (1797, 64)\n",
    "mnist = load_digits()\n",
    "\n",
    "# Splitting into training and testing\n",
    "small_train_data, small_test_data, small_train_labels, small_test_labels = train_test_split(mnist.data, mnist.target, test_size=0.2)\n"
   ]
  },
  {
   "cell_type": "code",
   "execution_count": 3,
   "id": "technical-compromise",
   "metadata": {},
   "outputs": [],
   "source": [
    "# Basic Intuitive from Scratch Implimentation\n",
    "\n",
    "# Accury and Speed not the best\n",
    "# But more intuitive than either\n",
    "# FaissKNeighbors or AnnoyKNN\n",
    "class KNN:\n",
    "    def __init__(self, K):\n",
    "        self.K = K\n",
    "\n",
    "    def _distance(self, x, z):\n",
    "        return np.linalg.norm(x - z, axis = 1)\n",
    "\n",
    "    def fit(self, X_train, y_train):\n",
    "        \"\"\"\n",
    "        Because all computation is done during predict, nothing\n",
    "        is needed here.\n",
    "\n",
    "        \"\"\"\n",
    "        self.X_train = X_train\n",
    "        self.y_train = y_train\n",
    "\n",
    "    def predict(self, X_test):\n",
    "        self.X_test = X_test\n",
    "\n",
    "        m, n = np.shape(X_test)\n",
    "        predictions = np.zeros(m)\n",
    "\n",
    "        for i in range(m):\n",
    "            distance = self._distance(self.X_test[i], self.X_train)\n",
    "\n",
    "            index = np.argsort(distance, axis = 0, kind=\"heapsort\")[: self.K]\n",
    "\n",
    "            predictions[i] = np.argmax(np.bincount(self.y_train[index]))\n",
    "\n",
    "        return predictions\n",
    "    \n",
    "    def accuracy_score(self, predictions, actual):\n",
    "        num_predictions = len(predictions)\n",
    "        \n",
    "        predictions[predictions != actual] = 0\n",
    "        predictions[predictions == actual] = 1\n",
    "\n",
    "        num_correct = np.sum(predictions)\n",
    "\n",
    "        accuracy = float(num_correct) / num_predictions\n",
    "        \n",
    "        print(\"Number of Predictions: {} | Accurary: {}\".format(num_predictions, accuracy))\n",
    "    "
   ]
  },
  {
   "cell_type": "code",
   "execution_count": 8,
   "id": "finite-internet",
   "metadata": {},
   "outputs": [
    {
     "name": "stdout",
     "output_type": "stream",
     "text": [
      "Number of Predictions: 360 | Accurary: 0.9888888888888889\n"
     ]
    },
    {
     "data": {
      "image/png": "[encoded data removed]",
      "text/plain": [
       "<Figure size 432x288 with 1 Axes>"
      ]
     },
     "metadata": {
      "needs_background": "light"
     },
     "output_type": "display_data"
    }
   ],
   "source": [
    "# TRAINING, TESTING, ACCURACY, & CONFUSION MATRIX\n",
    "\n",
    "model = KNN(K = 3)\n",
    "model.fit(small_train_data, small_train_labels)\n",
    "predictions = model.predict(small_test_data)\n",
    "\n",
    "# Computing confusion matrix\n",
    "cm = confusion_matrix(y_target=small_test_labels, y_predicted=predictions, binary=False)\n",
    "\n",
    "# Getting Accuracy\n",
    "model.accuracy_score(predictions, small_test_labels)\n",
    "\n",
    "# Plotting confusion matrix\n",
    "fig, ax = plot_confusion_matrix(conf_mat=cm)"
   ]
  },
  {
   "cell_type": "markdown",
   "id": "accomplished-roller",
   "metadata": {},
   "source": [
    "## Analysis of Basic Implimentation\n",
    "\n",
    "This version when working with heavily compiled mnist data works well. Though computing the L2 norm is extremely expensive and time consuming. To run this on the vanilla MNIST dataset would take days and the accuracy (for some unknown reason) is only about 80%.\n",
    "\n",
    "Again, if you looking for an method that uses optimization and approximation of KNN, please take a look at my mnist classification with KNN notebook: https://github.com/ryanirl/ml-basics/blob/main/mnist_classification/KNN_mnist.ipynb\n",
    "\n",
    "<br />"
   ]
  },
  {
   "cell_type": "markdown",
   "id": "refined-yugoslavia",
   "metadata": {},
   "source": [
    "---\n",
    "\n",
    "AUTHOR: RYAN PETERS\n",
    "    \n",
    "<br />\n"
   ]
  },
  {
   "cell_type": "code",
   "execution_count": null,
   "id": "sudden-howard",
   "metadata": {},
   "outputs": [],
   "source": []
  }
 ],
 "metadata": {
  "kernelspec": {
   "display_name": "Python 3",
   "language": "python",
   "name": "python3"
  },
  "language_info": {
   "codemirror_mode": {
    "name": "ipython",
    "version": 3
   },
   "file_extension": ".py",
   "mimetype": "text/x-python",
   "name": "python",
   "nbconvert_exporter": "python",
   "pygments_lexer": "ipython3",
   "version": "3.9.2"
  }
 },
 "nbformat": 4,
 "nbformat_minor": 5
}
