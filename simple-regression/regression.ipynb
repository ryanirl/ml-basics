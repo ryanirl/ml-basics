{
 "cells": [
  {
   "cell_type": "markdown",
   "id": "surprised-privacy",
   "metadata": {},
   "source": [
    "# Regression\n",
    "\n",
    "---"
   ]
  },
  {
   "cell_type": "markdown",
   "id": "monthly-vegetable",
   "metadata": {},
   "source": [
    "**WORK IN PROGRESS**\n",
    "\n",
    "## Table of Contents\n",
    " 1. Linear Regression\n",
    "     - OLS Regression\n",
    "     - Lasso Regression (L1 Regularization)\n",
    "     - Ridge Regression (L2 Regularization)\n",
    " 2. Polynomial Regression\n",
    " 3. Bayesian Linear Regression\n",
    " \n",
    "<br />"
   ]
  },
  {
   "cell_type": "markdown",
   "id": "adaptive-score",
   "metadata": {},
   "source": [
    "---\n",
    "\n",
    "## 1. Linear Regression\n",
    "\n",
    "The many different types of Linear Regression may be confusing at first but it's actually very simple. The \"vanilla\" and most basic form of Linear Regression is known as OLS Regression. OLS Regression coupled with a regularization term will either be known as Lasso or Ridge Regression. To elaborate:\n",
    "\n",
    "Lasso Regression = OLS + L1_reg\n",
    "\n",
    "Ridge Regression = OLS + L2_reg"
   ]
  },
  {
   "cell_type": "code",
   "execution_count": null,
   "id": "given-adolescent",
   "metadata": {},
   "outputs": [],
   "source": []
  }
 ],
 "metadata": {
  "kernelspec": {
   "display_name": "Python 3",
   "language": "python",
   "name": "python3"
  },
  "language_info": {
   "codemirror_mode": {
    "name": "ipython",
    "version": 3
   },
   "file_extension": ".py",
   "mimetype": "text/x-python",
   "name": "python",
   "nbconvert_exporter": "python",
   "pygments_lexer": "ipython3",
   "version": "3.9.6"
  }
 },
 "nbformat": 4,
 "nbformat_minor": 5
}
