{
 "cells": [
  {
   "cell_type": "markdown",
   "id": "economic-civilian",
   "metadata": {},
   "source": [
    "# K-Means\n",
    "\n",
    "---\n",
    "\n",
    "## Table of Contents\n",
    "1. Defined\n",
    "2. Implimentation\n",
    "3. Comparison\n",
    "\n",
    "<br />\n",
    "\n",
    "---\n",
    "\n",
    "\n",
    "## Implimentation\n"
   ]
  },
  {
   "cell_type": "code",
   "execution_count": 1,
   "id": "adult-excerpt",
   "metadata": {},
   "outputs": [],
   "source": [
    "# IMPORTS\n",
    "\n",
    "import random\n",
    "import numpy as np\n",
    "import matplotlib.pyplot as plt\n",
    "from sklearn.datasets import make_blobs"
   ]
  },
  {
   "cell_type": "code",
   "execution_count": 2,
   "id": "outer-attraction",
   "metadata": {},
   "outputs": [],
   "source": [
    "class KMeans:\n",
    "    def __init__(self, k_clusters = 2):\n",
    "        self.k_clusters = k_clusters\n",
    "\n",
    "    def _classify(self, centers, x_i):\n",
    "        return np.argmin(np.linalg.norm(centers - np.array(x_i), axis = 1))\n",
    "\n",
    "    def fit(self, X):\n",
    "        self.X = X\n",
    "\n",
    "        self.centers = np.array(random.sample(list(self.X), self.k_clusters))\n",
    "\n",
    "        # Testing variable for if new_cluster = old_cluster\n",
    "        test = True\n",
    "\n",
    "        old_cluster = None\n",
    "\n",
    "        while test:\n",
    "            new_cluster = [self._classify(self.centers, x) for x in X]\n",
    "\n",
    "            if new_cluster == old_cluster: test = False\n",
    "\n",
    "            old_cluster = new_cluster\n",
    "\n",
    "            for i in range(self.k_clusters):\n",
    "                index = np.where(np.array(new_cluster) == i) \n",
    "                self.centers[i] = np.mean(X[index], axis = 0)\n",
    "\n",
    "\n",
    "        return self.centers\n",
    "\n",
    "    def plot(self, y = None, actual_y = None):\n",
    "        X = self.X.T\n",
    "\n",
    "        if y == None:\n",
    "            for i in range(len(X[0])):\n",
    "                plt.scatter(X[:, i][0], X[:, i][1])\n",
    "        else:\n",
    "            for i in range(len(X[0])):\n",
    "                if (actual_y[i] == 1):\n",
    "                    plt.scatter(X[:, i][0], X[:, i][1], color=\"green\") \n",
    "                else:\n",
    "                    plt.scatter(X[:, i][0], X[:, i][1], color=\"blue\")\n",
    "\n",
    "        plt.scatter(self.centers[0][0], self.centers[0][1], color=\"red\", s=200)\n",
    "        plt.scatter(self.centers[1][0], self.centers[1][1], color=\"red\", s=200)\n",
    "        plt.show()"
   ]
  },
  {
   "cell_type": "code",
   "execution_count": 3,
   "id": "prime-arkansas",
   "metadata": {},
   "outputs": [
    {
     "data": {
      "image/png": "[encoded data removed]",
      "text/plain": [
       "<Figure size 432x288 with 1 Axes>"
      ]
     },
     "metadata": {
      "needs_background": "light"
     },
     "output_type": "display_data"
    }
   ],
   "source": [
    "# FIT\n",
    "\n",
    "X, Y = make_blobs(n_samples = 200, centers = 2, cluster_std = 3)\n",
    "\n",
    "model = KMeans()\n",
    "model.fit(X)\n",
    "model.plot(actual_y = Y, y = 1)"
   ]
  },
  {
   "cell_type": "code",
   "execution_count": null,
   "id": "medieval-subject",
   "metadata": {},
   "outputs": [],
   "source": []
  }
 ],
 "metadata": {
  "kernelspec": {
   "display_name": "Python 3",
   "language": "python",
   "name": "python3"
  },
  "language_info": {
   "codemirror_mode": {
    "name": "ipython",
    "version": 3
   },
   "file_extension": ".py",
   "mimetype": "text/x-python",
   "name": "python",
   "nbconvert_exporter": "python",
   "pygments_lexer": "ipython3",
   "version": "3.9.2"
  }
 },
 "nbformat": 4,
 "nbformat_minor": 5
}
