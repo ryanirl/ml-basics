{
 "cells": [
  {
   "cell_type": "markdown",
   "id": "white-taylor",
   "metadata": {},
   "source": [
    "# Logistic Regression From Scratch"
   ]
  },
  {
   "cell_type": "markdown",
   "id": "negative-departure",
   "metadata": {},
   "source": [
    "## Table of Contents\n",
    "1. Logistic Regression Hypothesis \n",
    "2. Loss Function & Intro to Negative Log-Likelihood (NLL)\n",
    "3. Gradient Descent for NLL\n",
    "4. Implimentation\n",
    "5. Comparison with sklearn\n",
    "\n",
    "<br />\n",
    "\n",
    "---\n",
    "\n",
    "## Hypothesis\n",
    "\n",
    "Logistic Regression, though given the name, is a form of classification. Given the hypothesis $ w^{\\top}x+b $ logistic regression makes use of a non-linear activation function. Namely, it using the sigmoid function to make a hypothesis in the range $ (0, 1)$. This sigmoid function is often denoted $\\sigma(z)$ where $z = w^{\\top}x+b $. Specifically, this sigmoid function is:\n",
    "\n",
    "<br />\n",
    "\n",
    "$$ \\sigma(z) = \\frac{1}{1 + e^{-(w^{\\top}x+b)}} $$\n",
    "\n",
    "<br />\n",
    "\n",
    "\n",
    "For added intuition, plotting the sigmoid function gives: \n",
    "\n",
    "<img src=\"img/sigmoid_function.png\" width=\"400\" height=\"200\">\n",
    "\n",
    "Now the Logistic Regression would make the hypothesis:\n",
    "\n",
    "\n",
    "<br />\n",
    "\n",
    "$$\n",
    "h(x ; w, b)=\\left\\{\\begin{array}{ll}\n",
    "1 & \\text { if } \\sigma(w^{\\top}x+b)>=0.5 \\\\\n",
    "0 & \\text { if } \\sigma(w^{\\top}x+b) < 0.5 \\\\\n",
    "\\end{array}\\right.\n",
    "$$\n",
    "\n",
    "<br />\n",
    "\n",
    "---\n",
    "\n",
    "## Loss Function - Negative Log-Likelihood (NLL)\n",
    "\n",
    "Because the values are between 0 and 1 then we can think of a result given for some $x_i$ is the probability that the classifier believes it's either positive or negative. That is a guess on $x_i$ is $g_i = \\sigma(w^{\\top}x_i+b)$ where the probability $P(x)$ that a point is either negative or positive is $g_i$ if $y_i = 1$ and is $ 1 - g_i $ if $y_i = 0$. Using the laws of probability we can summarize this as:\n",
    "\n",
    "$$ \\prod_{i=1}^{n}\\left\\{\\begin{array}{ll}\n",
    "g_i & \\text { if } y_i = 1 \\\\\n",
    "1 - g_i & \\text { if } y_i = 0 \\\\\n",
    "\\end{array}\\right. $$\n",
    "\n",
    "Using a very beautiful trick we can rewrite this entire thing as:\n",
    "\n",
    "$$ \\prod_{i=1}^{n} \\; g_i^{y_i} \\; (1-g_i)^{1-y_i} $$\n",
    "\n",
    "But, in math we like summations and not big products like this. So to convert this to a sum we just use the log trick. Giving:\n",
    "\n",
    "$$ \\sum_{i=1}^{n} \\; [y_i\\log(g_i) \\;+\\; (1-y_i)\\log(1-g_i)] $$\n",
    "\n",
    "And this is out loss function. It is commonly known as the negative log-likelihood or log loss or cross entropy. The notation I will use for this loss funtion will be $\\mathbb{L}_{NLL}(g_i, y_i) $.\n",
    "\n",
    "Now that we have defined the loss, we can write our normalized objective function $J(w, b)$ for logistic regression as:\n",
    "\n",
    "$$ J(w, b) = \\frac{1}{n} \\sum_{i=1}^{n} [\\mathbb{L}_{NLL}(\\sigma(w^{\\top}x_i+b), y_i)] + \\frac{\\lambda}{2} \\|w\\|^{2} $$\n",
    "\n",
    "<br />\n",
    "\n",
    "\n",
    "\n",
    "\n",
    "---\n",
    "\n",
    "## Gradient Descent\n",
    "\n",
    "Using gradient descent to optimize our objective function we can simply take the partial derivative w.r.t $w$ and $b$ then make the update on w and b as follows:\n",
    "\n",
    "w: $w_{t+1} = w_{t} - \\mu \\nabla_{w}J(w, b)$\n",
    "\n",
    "b: $w_{t+1} = b_{t} - \\mu \\nabla_{b}J(w, b)$\n",
    "\n",
    "\n",
    "For our objective function this leads to the updates:\n",
    "\n",
    "w: $w_{t+1} = w_{t} - \\mu (\\frac{1}{n} \\sum_{i=1}^{n} [(\\sigma(w^{\\top}x_i+b) - y_i)x_i] + \\lambda \\|w\\|)$\n",
    "\n",
    "b: $w_{t+1} = b_{t} - \\mu (\\frac{1}{n} \\sum_{i=1}^{n} [(\\sigma(w^{\\top}x_i+b) - y_i)] + \\lambda \\|w\\|)$\n",
    "\n",
    "<br />\n",
    "\n",
    "\n",
    "[//]: # (Now though I have clarified the casses given both a $w$ and a $b$ I am going to combine my bias and my weights letting the weights of size $(d, 1)$ be of size $(d + 1, 1)$ my points $X$ that were of size $(d, n) $ be of size $(d + 1, n) $ where the $d + 1$ dimension of length $n$ is all $1$'s. This might sound a little confusing so heres a small example:)\n",
    "\n",
    "\n",
    "---\n",
    "\n",
    "## My Implimentation\n",
    "\n",
    "\n",
    "\n",
    "\n",
    "\n",
    "\n",
    "\n"
   ]
  },
  {
   "cell_type": "code",
   "execution_count": 17,
   "id": "killing-oriental",
   "metadata": {},
   "outputs": [],
   "source": [
    "# IMPORTS\n",
    "import numpy as np\n",
    "from sklearn.datasets import make_blobs\n",
    "from sklearn.linear_model import LogisticRegression\n",
    "import matplotlib.pyplot as plt"
   ]
  },
  {
   "cell_type": "code",
   "execution_count": 23,
   "id": "pending-configuration",
   "metadata": {},
   "outputs": [],
   "source": [
    "# DATA \n",
    "n = 200\n",
    "X, Y = make_blobs(n_samples = n, centers = 2, n_features = 2, cluster_std = 5, random_state = 9) # 11 random normal\n",
    "\n",
    "dim_add = np.array([1]*n)[np.newaxis]\n",
    "X = np.append(X.T, dim_add, axis=0)\n",
    "X = X.T"
   ]
  },
  {
   "cell_type": "code",
   "execution_count": 24,
   "id": "painful-smoke",
   "metadata": {},
   "outputs": [],
   "source": [
    "# MY FROM SCRATCH IMPLIMENTATION\n",
    "\n",
    "def sigmoid(z): #Non-Linear Hypothesis Function\n",
    "    return 1.0 / (1.0 + np.exp(-z))\n",
    "\n",
    "\n",
    "def gradient_descent(w,  X, Y, eta, d, t, lamb):\n",
    "    for i in range(t):\n",
    "        hypothesis = sigmoid(np.dot(w.T, X))\n",
    "        hypothesis[hypothesis > 0.5] = 1\n",
    "        hypothesis[hypothesis <= 0.5] = 0\n",
    "\n",
    "        gradient_weight = np.array(np.dot(hypothesis - Y, X.T)) / len(X[0])\n",
    "        regularization = lamb * np.linalg.norm(w) \n",
    "\n",
    "        w = (w.T - eta * (gradient_weight + regularization)).T\n",
    "\n",
    "    return w"
   ]
  },
  {
   "cell_type": "code",
   "execution_count": 25,
   "id": "electric-calendar",
   "metadata": {},
   "outputs": [],
   "source": [
    "# SKLEARN Implimentation for Reference\n",
    "\n",
    "logisticReg = LogisticRegression()\n",
    "logisticReg.fit(X, Y)\n",
    "test = logisticReg.predict(X)\n",
    "coef = logisticReg.coef_[0]"
   ]
  },
  {
   "cell_type": "code",
   "execution_count": 26,
   "id": "fallen-richardson",
   "metadata": {},
   "outputs": [
    {
     "name": "stdout",
     "output_type": "stream",
     "text": [
      "Scratch Implimentation Weights: [[ 0.01019322 -0.00877474  0.01281389]]\n",
      "SKLearn Implimentation Weights: [ 5.74787157e-01 -4.64166553e-01 -1.95321050e-04]\n"
     ]
    }
   ],
   "source": [
    "init_weights = np.array([[0], [0], [0]])\n",
    "eta = 0.01\n",
    "dimension = len(init_weights)\n",
    "t = 10000\n",
    "lamb = 0.0001\n",
    "\n",
    "weights = gradient_descent(init_weights, X.T, Y, eta, dimension, t, lamb)\n",
    "\n",
    "print(\"Scratch Implimentation Weights: {}\".format(weights.T))\n",
    "\n",
    "\n",
    "# ------ #\n",
    "\n",
    "print(\"SKLearn Implimentation Weights: {}\".format(coef))\n",
    "\n",
    "weight_0 = coef[0]\n",
    "weight_1 = coef[1]\n",
    "weight_2 = coef[2]"
   ]
  },
  {
   "cell_type": "code",
   "execution_count": 27,
   "id": "acting-transport",
   "metadata": {},
   "outputs": [
    {
     "data": {
      "image/png": "[encoded data removed]",
      "text/plain": [
       "<Figure size 432x288 with 1 Axes>"
      ]
     },
     "metadata": {
      "needs_background": "light"
     },
     "output_type": "display_data"
    }
   ],
   "source": [
    "# PLOTTING\n",
    "\n",
    "X = X.T\n",
    "for i in range(n):\n",
    "    if (Y[i] == 1):\n",
    "        plt.scatter(X[:, i][0], X[:, i][1], color=\"green\") \n",
    "    else:\n",
    "        plt.scatter(X[:, i][0], X[:, i][1], color=\"blue\")\n",
    "\n",
    "        \n",
    "x = np.linspace(-20, 20, 20)\n",
    "hyperplane_1 = (((-1)*(weights[0] / weights[1]) * x) - (weights[2]/weights[1]))\n",
    "hyperplane = (((-1)*(weight_0 / weight_1) * x) - (weight_2/weight_1))\n",
    "\n",
    "plt.plot(x, hyperplane, '-', color=\"blue\")\n",
    "plt.plot(x, hyperplane_1, '-', color=\"green\")\n",
    "\n",
    "plt.show()"
   ]
  },
  {
   "cell_type": "code",
   "execution_count": null,
   "id": "dietary-species",
   "metadata": {},
   "outputs": [],
   "source": []
  }
 ],
 "metadata": {
  "kernelspec": {
   "display_name": "Python 3",
   "language": "python",
   "name": "python3"
  },
  "language_info": {
   "codemirror_mode": {
    "name": "ipython",
    "version": 3
   },
   "file_extension": ".py",
   "mimetype": "text/x-python",
   "name": "python",
   "nbconvert_exporter": "python",
   "pygments_lexer": "ipython3",
   "version": "3.9.2"
  }
 },
 "nbformat": 4,
 "nbformat_minor": 5
}
