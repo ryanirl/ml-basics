{
 "cells": [
  {
   "cell_type": "markdown",
   "id": "fifteen-think",
   "metadata": {},
   "source": [
    "# Analysis & Implimentation of the Perceptron Algorithm: Capabilities & Limits\n",
    "\n",
    "*THIS IS A ROUGH DRAFT* | *STILL IN PROGRESS*\n",
    "\n",
    "The Rosenblatt Perceptron Algorithm is an algorithm for supervised learning of a binary classifier. It trains a linear classifier that makes a prediction $ h(x ; \\theta, \\theta_{0}) $ given a point $x$ and weights $\\theta$ and $\\theta_0$. Specifically, this prediction is:\n",
    "\n",
    "<br />\n",
    "\n",
    "$$ \\begin{equation}\n",
    "h\\left(x ; \\theta, \\theta_{0}\\right)=\\operatorname{sign}\\left(\\theta^{\\top} x+\\theta_{0}\\right)=\\left\\{\\begin{array}{ll}\n",
    "+1 & \\text { if } \\theta^{\\top} x+\\theta_{0}>0 \\\\\n",
    "-1 & \\text { otherwise }\n",
    "\\end{array}\\right.\n",
    "\\end{equation} $$\n",
    "\n",
    "<br />\n",
    "\n",
    "\n",
    "These weights, $\\theta$ and $\\theta_{0}$, define a hyper-plane. This hyper-plane then acts as our decision boundry. Think of a hyper-plane as a line in 2D, a plane in 3D, and so on. Technically, this hyper-plane takes the form $\\theta_0 + \\theta_1x_1 + ... + \\theta_dx_d = 0$. This means the vector $<\\theta_1, ... , \\theta_d>$ is a normal to the hyper-plane pointing in the positive direction. To add a graphical explanation of this: \n",
    "\n",
    "<br />\n",
    "\n",
    "<center><img src=\"perceptron_example.png\" width=\"600\" height=\"400\"></center>\n",
    "\n",
    "<br />\n",
    "\n",
    "Now I have explained the notation and given some intuition about how the Perceptron Algorithm makes hypothesis and how the hyper-plane is defined. The Perceptron Algorithm is as follows: \n",
    "\n",
    "<img src=\"perceptron_algorithm.png\" width=\"300\" height=\"200\">\n",
    "\n",
    "One important note about the Perceptron Algorithm is that if a dataset is linear seperable, then the Perceptron Algorithm will ALWAYS find a $\\theta$ and $\\theta_0$ seperating the dataset.\n",
    "\n"
   ]
  },
  {
   "cell_type": "code",
   "execution_count": 2,
   "id": "ongoing-lambda",
   "metadata": {},
   "outputs": [],
   "source": [
    "from sklearn.datasets import make_blobs\n",
    "import matplotlib.pyplot as plt\n",
    "import numpy as np"
   ]
  },
  {
   "cell_type": "markdown",
   "id": "stuffed-threat",
   "metadata": {
    "tags": []
   },
   "source": [
    "### Defining Data Using SKLearn Blobs"
   ]
  },
  {
   "cell_type": "code",
   "execution_count": 3,
   "id": "buried-leisure",
   "metadata": {
    "tags": []
   },
   "outputs": [],
   "source": [
    "# How many data points of dx1 dimensions to train algorithm on\n",
    "sample_size = 100\n",
    "\n",
    "X, y = make_blobs(n_samples = sample_size, centers = 2, random_state = 1)\n",
    "X = np.transpose(np.array(X))\n",
    "y = np.array(y)\n",
    "\n",
    "# By default sklearn blobs are classified with {0, 1} but we want {-1, 1} for *already explained reasons*\n",
    "y[y == 0] = -1\n"
   ]
  },
  {
   "cell_type": "markdown",
   "id": "cleared-corrections",
   "metadata": {},
   "source": [
    "### The Perceptron Algorithm (fix temp var to shorten)"
   ]
  },
  {
   "cell_type": "code",
   "execution_count": 4,
   "id": "drawn-jamaica",
   "metadata": {},
   "outputs": [],
   "source": [
    "# Perceptron Algorithm\n",
    "def perceptron(t, D, y):\n",
    "    th0s = np.array([0])\n",
    "    ths = np.array([[0], [0]])\n",
    "\n",
    "    for t in range(t):\n",
    "        for i in range(sample_size):\n",
    "            if (y[i] * (np.dot(D[:, i], ths) + th0s) <= 0):\n",
    "                ths = ths + np.transpose(np.expand_dims((y[i]) * D[:, i], axis = 0)) \n",
    "                th0s = th0s + y[i]\n",
    "\n",
    "    return ths, th0s\n",
    "\n",
    "# Calling Perceptron Algorithm\n",
    "theta1, theta0 = perceptron(10000, X, y)\n"
   ]
  },
  {
   "cell_type": "markdown",
   "id": "ultimate-walnut",
   "metadata": {},
   "source": [
    "### Plotting Points & Line (divide 0 problem fix)"
   ]
  },
  {
   "cell_type": "code",
   "execution_count": 6,
   "id": "infrared-nepal",
   "metadata": {},
   "outputs": [
    {
     "data": {
      "image/png": "[encoded data removed]",
      "text/plain": [
       "<Figure size 432x288 with 1 Axes>"
      ]
     },
     "metadata": {
      "needs_background": "light"
     },
     "output_type": "display_data"
    }
   ],
   "source": [
    "# Green for +1 and Blue for -1\n",
    "for i in range(sample_size):\n",
    "    if (y[i] == 1):\n",
    "        plt.scatter(X[0][i], X[1][i], color=\"green\") \n",
    "    else:\n",
    "        plt.scatter(X[0][i], X[1][i], color=\"blue\")\n",
    "\n",
    "        \n",
    "# *CHANGE NAMES* \n",
    "x = np.linspace(-10, 10, 10)\n",
    "hyperplane = ((-1)*(theta1[0][0] / theta1[1][0]) * x) - (theta0[0]/theta1[1][0])\n",
    "\n",
    "plt.plot(x, hyperplane, '-')\n",
    "\n",
    "plt.show()\n"
   ]
  },
  {
   "cell_type": "code",
   "execution_count": null,
   "id": "continuous-shopper",
   "metadata": {},
   "outputs": [],
   "source": []
  }
 ],
 "metadata": {
  "kernelspec": {
   "display_name": "Python 3",
   "language": "python",
   "name": "python3"
  },
  "language_info": {
   "codemirror_mode": {
    "name": "ipython",
    "version": 3
   },
   "file_extension": ".py",
   "mimetype": "text/x-python",
   "name": "python",
   "nbconvert_exporter": "python",
   "pygments_lexer": "ipython3",
   "version": "3.8.5"
  }
 },
 "nbformat": 4,
 "nbformat_minor": 5
}
