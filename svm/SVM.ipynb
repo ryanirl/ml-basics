{
 "cells": [
  {
   "cell_type": "markdown",
   "id": "graduate-blackjack",
   "metadata": {},
   "source": [
    "# SVM\n",
    "---\n",
    "\n",
    "<!-- TABLE OF CONTENTS -->\n",
    "### Table of Contents: \n",
    "1. SVM Defined\n",
    "2. Optimization of SVM \n",
    "     - Gradient Descent for linear SVM and hinge loss \n",
    "     - Quadratic programming for Dual Problem & Kernals)\n",
    "3. Introduction to CVXOPT\n",
    "4. Converting Dual Form to CVXOPT required form\n",
    "5. Implimentation of CVXOPT for SVM optimization with Gaussian & Linear Kernal\n",
    "6. Softmax vs. Hard Margin SVM\n",
    "7. Comparison with sklearn\n",
    "\n",
    "<br />\n",
    "\n",
    "---\n",
    "\n"
   ]
  },
  {
   "cell_type": "markdown",
   "id": "intended-tiger",
   "metadata": {},
   "source": [
    "### SVM Defined\n",
    "\n",
    "\n",
    "The Support Vector Machine (SVM) is another form of supervised learning of a classifier. Specifically, SVM's are a type of Margin Maximizer that along with a Kernel form the SVM. \n",
    "\n",
    "\n",
    "\n",
    "<br />\n",
    "\n",
    "---"
   ]
  },
  {
   "cell_type": "markdown",
   "id": "accessible-spring",
   "metadata": {},
   "source": [
    "### Optimization Problem Forms\n",
    "\n",
    "# 1. Primal Form\n",
    "\n",
    "\n",
    "# 2. Dual Form\n",
    "\n",
    "The Dual Form will be our main focus as we can through it into a convex optimizer such as CVXOPT. \n",
    "\n",
    "$$\n",
    "\\begin{aligned}\n",
    "\\max _{\\alpha} & \\; W(\\alpha)=\\sum_{i=1}^{n} \\alpha_{i}-\\frac{1}{2} \\sum_{i, j=1}^{n} y^{(i)} y^{(j)} \\alpha_{i} \\alpha_{j}\\left\\langle x^{(i)}, x^{(j)}\\right\\rangle .\\\\\n",
    "\\text { s.t. } & \\alpha_{i} \\geq 0, \\quad i=1, \\ldots, n \\\\\n",
    "& \\sum_{i=1}^{n} \\alpha_{i} y^{(i)}=0\n",
    "\\end{aligned}\n",
    "$$\n",
    "\n",
    "\n",
    "\n",
    "\n",
    "\n",
    "\n",
    "<br />\n",
    "\n",
    "---\n"
   ]
  },
  {
   "cell_type": "markdown",
   "id": "familiar-killer",
   "metadata": {},
   "source": [
    "### Quick SKLearn Implimentation for Reference\n",
    "\n",
    "---"
   ]
  },
  {
   "cell_type": "code",
   "execution_count": 1,
   "id": "occupational-evidence",
   "metadata": {},
   "outputs": [],
   "source": [
    "# Imports\n",
    "\n",
    "import matplotlib.pyplot as plt\n",
    "from matplotlib.colors import ListedColormap\n",
    "from sklearn.datasets import make_circles\n",
    "from sklearn.svm import SVC\n",
    "import numpy as np\n",
    "from mlxtend.plotting import plot_decision_regions"
   ]
  },
  {
   "cell_type": "code",
   "execution_count": 2,
   "id": "mounted-saturday",
   "metadata": {},
   "outputs": [],
   "source": [
    "# This is the very easy way to impliment SVM with Gaussian Kernal and I plan on doing \n",
    "# a \"from scratch\" implimentation along with math behind some of it.\n",
    "\n",
    "\n",
    "# Create Dataset\n",
    "# Copied this data set from this acticle: \n",
    "# https://towardsdatascience.com/how-to-learn-non-linear-separable-dataset-with-support-vector-machines-a7da21c6d987\n",
    "np.random.seed(0)\n",
    "\n",
    "X = np.random.randn(200, 2)\n",
    "y = np.logical_xor(X[:, 0] > 0, X[:, 1] > 0)\n",
    "y = np.where(y, 1, -1)\n",
    "\n",
    "# If you want circular data points instead\n",
    "#X, y = make_circles()\n"
   ]
  },
  {
   "cell_type": "code",
   "execution_count": 3,
   "id": "russian-appearance",
   "metadata": {},
   "outputs": [],
   "source": [
    "# The very \"hard to impliment\" model :)\n",
    "\n",
    "model = SVC(kernel='rbf')\n",
    "clf = model.fit(X, y)"
   ]
  },
  {
   "cell_type": "code",
   "execution_count": 4,
   "id": "individual-local",
   "metadata": {},
   "outputs": [
    {
     "data": {
      "image/png": "[encoded data removed]",
      "text/plain": [
       "<Figure size 432x288 with 1 Axes>"
      ]
     },
     "metadata": {
      "needs_background": "light"
     },
     "output_type": "display_data"
    }
   ],
   "source": [
    "# The mlxtend library for plotting decision is amazing. \n",
    "\n",
    "plot_decision_regions(X=X, y=y, clf=clf, legend=2)\n",
    "\n",
    "plt.show()"
   ]
  },
  {
   "cell_type": "code",
   "execution_count": null,
   "id": "unlike-paste",
   "metadata": {},
   "outputs": [],
   "source": []
  }
 ],
 "metadata": {
  "kernelspec": {
   "display_name": "Python 3",
   "language": "python",
   "name": "python3"
  },
  "language_info": {
   "codemirror_mode": {
    "name": "ipython",
    "version": 3
   },
   "file_extension": ".py",
   "mimetype": "text/x-python",
   "name": "python",
   "nbconvert_exporter": "python",
   "pygments_lexer": "ipython3",
   "version": "3.9.2"
  }
 },
 "nbformat": 4,
 "nbformat_minor": 5
}
